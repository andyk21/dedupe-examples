{
 "cells": [
  {
   "cell_type": "markdown",
   "metadata": {},
   "source": [
    "## 1. Data preprocessing"
   ]
  },
  {
   "cell_type": "code",
   "execution_count": 2,
   "metadata": {},
   "outputs": [],
   "source": [
    "from datetime import datetime\n",
    "import psycopg2\n",
    "import psycopg2.extras\n",
    "import csv\n",
    "import zipfile\n",
    "import os"
   ]
  },
  {
   "cell_type": "code",
   "execution_count": 5,
   "metadata": {},
   "outputs": [
    {
     "name": "stdout",
     "output_type": "stream",
     "text": [
      "I've connected\n",
      "extracting wh-data.csv.zip\n"
     ]
    }
   ],
   "source": [
    "conn = None\n",
    "DATABASE = 'whitehouse-db'\n",
    "USER = 'test'\n",
    "HOST = 'localhost'\n",
    "PASSWORD = 'testpassword'\n",
    "\n",
    "try:\n",
    "    conn = psycopg2.connect(database=DATABASE, user=USER, host=HOST, password=PASSWORD)\n",
    "    print(\"I've connected\")\n",
    "except:\n",
    "    print(\"I am unable to connect to the database\")\n",
    "\n",
    "cur = conn.cursor()\n",
    "\n",
    "def dateParseSQL(nfile):\n",
    "    cur.execute(\"\"\"CREATE TABLE IF NOT EXISTS visitors_er\n",
    "                  (visitor_id SERIAL PRIMARY KEY,\n",
    "                  lastname    varchar,\n",
    "                  firstname   varchar,\n",
    "                  uin         varchar,\n",
    "                  apptmade    varchar,\n",
    "                  apptstart   varchar,\n",
    "                  apptend     varchar,\n",
    "                  meeting_loc varchar);\"\"\")\n",
    "    conn.commit()\n",
    "\n",
    "    DATEFIELDS = [7, 9, 11, 12, 13, 14, 18]\n",
    "    # ['TOA', 'TOD', 'APPT_MADE_DATE', 'APPT_START_DATE', 'APPT_END_DATE', 'APPT_CANCEL_DATE', 'LastEntryDate']\n",
    "\n",
    "    with open(nfile, 'r', errors='ignore') as infile:\n",
    "        reader = csv.reader(infile, delimiter=',')\n",
    "        next(reader, None)\n",
    "        for row in reader:\n",
    "            for field in DATEFIELDS:\n",
    "                if row[field] != '':\n",
    "                    try:\n",
    "                        dt = parser.parse(row[field])\n",
    "                        row[field] = dt.toordinal()  # We also tried dt.isoformat()\n",
    "                    except:\n",
    "                        continue\n",
    "            sql = \"INSERT INTO visitors_er(lastname, firstname, uin, apptmade, apptstart, apptend, meeting_loc) \\\n",
    "                   VALUES (%s,%s,%s,%s,%s,%s,%s)\"\n",
    "            cur.execute(sql, (row[0],row[1],row[3],row[10],row[11],row[12],row[21],))\n",
    "            conn.commit()\n",
    "    print (\"All done!\")\n",
    "\n",
    "_file = 'wh-data'\n",
    "data_zip_file = _file + '.csv.zip'\n",
    "data_csv_file = _file + '.csv'\n",
    "\n",
    "if not os.path.exists(data_csv_file):\n",
    "    zip_file = zipfile.ZipFile(data_zip_file, 'r')\n",
    "    print('extracting %s' % data_zip_file)\n",
    "    zip_file_contents = zip_file.namelist()\n",
    "    for f in zip_file_contents:\n",
    "        if ('.csv' in f):\n",
    "            zip_file.extract(f)\n",
    "    zip_file.close()\n",
    "\n",
    "dateParseSQL(data_csv_file)"
   ]
  },
  {
   "cell_type": "code",
   "execution_count": null,
   "metadata": {},
   "outputs": [],
   "source": []
  }
 ],
 "metadata": {
  "kernelspec": {
   "display_name": "Python 3",
   "language": "python",
   "name": "python3"
  },
  "language_info": {
   "codemirror_mode": {
    "name": "ipython",
    "version": 3
   },
   "file_extension": ".py",
   "mimetype": "text/x-python",
   "name": "python",
   "nbconvert_exporter": "python",
   "pygments_lexer": "ipython3",
   "version": "3.7.7"
  }
 },
 "nbformat": 4,
 "nbformat_minor": 4
}
